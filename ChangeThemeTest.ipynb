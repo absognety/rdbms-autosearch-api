{
 "cells": [
  {
   "cell_type": "code",
   "execution_count": 1,
   "metadata": {},
   "outputs": [
    {
     "name": "stdout",
     "output_type": "stream",
     "text": [
      "Collecting jupyterthemes\n",
      "\u001b[?25l  Downloading https://files.pythonhosted.org/packages/8a/08/9dee6dfd7f2aad6c30282d55c8f495b4dc1e4747b4e2bdbeb80572ddf312/jupyterthemes-0.20.0-py2.py3-none-any.whl (7.0MB)\n",
      "\u001b[K     |████████████████████████████████| 7.0MB 7.0MB/s eta 0:00:01\n",
      "\u001b[?25hCollecting lesscpy>=0.11.2 (from jupyterthemes)\n",
      "\u001b[?25l  Downloading https://files.pythonhosted.org/packages/10/d0/fdd9874972e07ae8727a3d26b433891d8605b96999ea99bbf506e756a7b1/lesscpy-0.13.0-py2.py3-none-any.whl (48kB)\n",
      "\u001b[K     |████████████████████████████████| 51kB 13.3MB/s eta 0:00:01\n",
      "\u001b[?25hRequirement already satisfied: ipython>=5.4.1 in /home/vikas/anaconda3/lib/python3.7/site-packages (from jupyterthemes) (6.5.0)\n",
      "Requirement already satisfied: jupyter-core in /home/vikas/anaconda3/lib/python3.7/site-packages (from jupyterthemes) (4.4.0)\n",
      "Requirement already satisfied: notebook>=5.6.0 in /home/vikas/anaconda3/lib/python3.7/site-packages (from jupyterthemes) (5.6.0)\n",
      "Requirement already satisfied: matplotlib>=1.4.3 in /home/vikas/anaconda3/lib/python3.7/site-packages (from jupyterthemes) (2.2.3)\n",
      "Requirement already satisfied: six in /home/vikas/anaconda3/lib/python3.7/site-packages (from lesscpy>=0.11.2->jupyterthemes) (1.11.0)\n",
      "Requirement already satisfied: ply in /home/vikas/anaconda3/lib/python3.7/site-packages (from lesscpy>=0.11.2->jupyterthemes) (3.11)\n",
      "Requirement already satisfied: backcall in /home/vikas/anaconda3/lib/python3.7/site-packages (from ipython>=5.4.1->jupyterthemes) (0.1.0)\n",
      "Requirement already satisfied: setuptools>=18.5 in /home/vikas/anaconda3/lib/python3.7/site-packages (from ipython>=5.4.1->jupyterthemes) (41.2.0)\n",
      "Requirement already satisfied: decorator in /home/vikas/anaconda3/lib/python3.7/site-packages (from ipython>=5.4.1->jupyterthemes) (4.3.0)\n",
      "Requirement already satisfied: jedi>=0.10 in /home/vikas/anaconda3/lib/python3.7/site-packages (from ipython>=5.4.1->jupyterthemes) (0.12.1)\n",
      "Requirement already satisfied: simplegeneric>0.8 in /home/vikas/anaconda3/lib/python3.7/site-packages (from ipython>=5.4.1->jupyterthemes) (0.8.1)\n",
      "Requirement already satisfied: prompt-toolkit<2.0.0,>=1.0.15 in /home/vikas/anaconda3/lib/python3.7/site-packages (from ipython>=5.4.1->jupyterthemes) (1.0.15)\n",
      "Requirement already satisfied: pexpect; sys_platform != \"win32\" in /home/vikas/anaconda3/lib/python3.7/site-packages (from ipython>=5.4.1->jupyterthemes) (4.6.0)\n",
      "Requirement already satisfied: pickleshare in /home/vikas/anaconda3/lib/python3.7/site-packages (from ipython>=5.4.1->jupyterthemes) (0.7.4)\n",
      "Requirement already satisfied: pygments in /home/vikas/anaconda3/lib/python3.7/site-packages (from ipython>=5.4.1->jupyterthemes) (2.2.0)\n",
      "Requirement already satisfied: traitlets>=4.2 in /home/vikas/anaconda3/lib/python3.7/site-packages (from ipython>=5.4.1->jupyterthemes) (4.3.2)\n",
      "Requirement already satisfied: tornado>=4 in /home/vikas/anaconda3/lib/python3.7/site-packages (from notebook>=5.6.0->jupyterthemes) (5.1)\n",
      "Requirement already satisfied: prometheus-client in /home/vikas/anaconda3/lib/python3.7/site-packages (from notebook>=5.6.0->jupyterthemes) (0.3.1)\n",
      "Requirement already satisfied: terminado>=0.8.1 in /home/vikas/anaconda3/lib/python3.7/site-packages (from notebook>=5.6.0->jupyterthemes) (0.8.1)\n",
      "Requirement already satisfied: pyzmq>=17 in /home/vikas/anaconda3/lib/python3.7/site-packages (from notebook>=5.6.0->jupyterthemes) (17.1.2)\n",
      "Requirement already satisfied: jinja2 in /home/vikas/anaconda3/lib/python3.7/site-packages (from notebook>=5.6.0->jupyterthemes) (2.10)\n",
      "Requirement already satisfied: ipython-genutils in /home/vikas/anaconda3/lib/python3.7/site-packages (from notebook>=5.6.0->jupyterthemes) (0.2.0)\n",
      "Requirement already satisfied: jupyter-client>=5.2.0 in /home/vikas/anaconda3/lib/python3.7/site-packages (from notebook>=5.6.0->jupyterthemes) (5.2.3)\n",
      "Requirement already satisfied: Send2Trash in /home/vikas/anaconda3/lib/python3.7/site-packages (from notebook>=5.6.0->jupyterthemes) (1.5.0)\n",
      "Requirement already satisfied: nbconvert in /home/vikas/anaconda3/lib/python3.7/site-packages (from notebook>=5.6.0->jupyterthemes) (5.4.0)\n",
      "Requirement already satisfied: ipykernel in /home/vikas/anaconda3/lib/python3.7/site-packages (from notebook>=5.6.0->jupyterthemes) (4.9.0)\n",
      "Requirement already satisfied: nbformat in /home/vikas/anaconda3/lib/python3.7/site-packages (from notebook>=5.6.0->jupyterthemes) (4.4.0)\n",
      "Requirement already satisfied: numpy>=1.7.1 in /home/vikas/anaconda3/lib/python3.7/site-packages (from matplotlib>=1.4.3->jupyterthemes) (1.15.1)\n",
      "Requirement already satisfied: cycler>=0.10 in /home/vikas/anaconda3/lib/python3.7/site-packages (from matplotlib>=1.4.3->jupyterthemes) (0.10.0)\n",
      "Requirement already satisfied: pyparsing!=2.0.4,!=2.1.2,!=2.1.6,>=2.0.1 in /home/vikas/anaconda3/lib/python3.7/site-packages (from matplotlib>=1.4.3->jupyterthemes) (2.2.0)\n",
      "Requirement already satisfied: python-dateutil>=2.1 in /home/vikas/anaconda3/lib/python3.7/site-packages (from matplotlib>=1.4.3->jupyterthemes) (2.7.3)\n",
      "Requirement already satisfied: pytz in /home/vikas/anaconda3/lib/python3.7/site-packages (from matplotlib>=1.4.3->jupyterthemes) (2018.5)\n",
      "Requirement already satisfied: kiwisolver>=1.0.1 in /home/vikas/anaconda3/lib/python3.7/site-packages (from matplotlib>=1.4.3->jupyterthemes) (1.0.1)\n",
      "Requirement already satisfied: parso>=0.3.0 in /home/vikas/anaconda3/lib/python3.7/site-packages (from jedi>=0.10->ipython>=5.4.1->jupyterthemes) (0.3.1)\n",
      "Requirement already satisfied: wcwidth in /home/vikas/anaconda3/lib/python3.7/site-packages (from prompt-toolkit<2.0.0,>=1.0.15->ipython>=5.4.1->jupyterthemes) (0.1.7)\n",
      "Requirement already satisfied: ptyprocess>=0.5 in /home/vikas/anaconda3/lib/python3.7/site-packages (from pexpect; sys_platform != \"win32\"->ipython>=5.4.1->jupyterthemes) (0.6.0)\n",
      "Requirement already satisfied: MarkupSafe>=0.23 in /home/vikas/anaconda3/lib/python3.7/site-packages (from jinja2->notebook>=5.6.0->jupyterthemes) (1.0)\n",
      "Requirement already satisfied: mistune>=0.8.1 in /home/vikas/anaconda3/lib/python3.7/site-packages (from nbconvert->notebook>=5.6.0->jupyterthemes) (0.8.3)\n",
      "Requirement already satisfied: entrypoints>=0.2.2 in /home/vikas/anaconda3/lib/python3.7/site-packages (from nbconvert->notebook>=5.6.0->jupyterthemes) (0.2.3)\n",
      "Requirement already satisfied: bleach in /home/vikas/anaconda3/lib/python3.7/site-packages (from nbconvert->notebook>=5.6.0->jupyterthemes) (2.1.4)\n",
      "Requirement already satisfied: pandocfilters>=1.4.1 in /home/vikas/anaconda3/lib/python3.7/site-packages (from nbconvert->notebook>=5.6.0->jupyterthemes) (1.4.2)\n",
      "Requirement already satisfied: testpath in /home/vikas/anaconda3/lib/python3.7/site-packages (from nbconvert->notebook>=5.6.0->jupyterthemes) (0.3.1)\n",
      "Requirement already satisfied: defusedxml in /home/vikas/anaconda3/lib/python3.7/site-packages (from nbconvert->notebook>=5.6.0->jupyterthemes) (0.5.0)\n",
      "Requirement already satisfied: jsonschema!=2.5.0,>=2.4 in /home/vikas/anaconda3/lib/python3.7/site-packages (from nbformat->notebook>=5.6.0->jupyterthemes) (2.6.0)\n",
      "Requirement already satisfied: html5lib!=1.0b1,!=1.0b2,!=1.0b3,!=1.0b4,!=1.0b5,!=1.0b6,!=1.0b7,!=1.0b8,>=0.99999999pre in /home/vikas/anaconda3/lib/python3.7/site-packages (from bleach->nbconvert->notebook>=5.6.0->jupyterthemes) (1.0.1)\n",
      "Requirement already satisfied: webencodings in /home/vikas/anaconda3/lib/python3.7/site-packages (from html5lib!=1.0b1,!=1.0b2,!=1.0b3,!=1.0b4,!=1.0b5,!=1.0b6,!=1.0b7,!=1.0b8,>=0.99999999pre->bleach->nbconvert->notebook>=5.6.0->jupyterthemes) (0.5.1)\n",
      "Installing collected packages: lesscpy, jupyterthemes\n",
      "Successfully installed jupyterthemes-0.20.0 lesscpy-0.13.0\n"
     ]
    }
   ],
   "source": [
    "!pip install jupyterthemes"
   ]
  },
  {
   "cell_type": "code",
   "execution_count": 2,
   "metadata": {},
   "outputs": [],
   "source": [
    "!jt -t chesterish"
   ]
  },
  {
   "cell_type": "code",
   "execution_count": null,
   "metadata": {},
   "outputs": [],
   "source": []
  }
 ],
 "metadata": {
  "kernelspec": {
   "display_name": "Python 3",
   "language": "python",
   "name": "python3"
  },
  "language_info": {
   "codemirror_mode": {
    "name": "ipython",
    "version": 3
   },
   "file_extension": ".py",
   "mimetype": "text/x-python",
   "name": "python",
   "nbconvert_exporter": "python",
   "pygments_lexer": "ipython3",
   "version": "3.7.0"
  }
 },
 "nbformat": 4,
 "nbformat_minor": 2
}
